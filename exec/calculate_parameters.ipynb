{
 "cells": [
  {
   "cell_type": "markdown",
   "metadata": {},
   "source": [
    "# Compute mean, volatility, correlation of stock returns"
   ]
  },
  {
   "cell_type": "code",
   "execution_count": 1,
   "metadata": {},
   "outputs": [],
   "source": [
    "import os\n",
    "import sys\n",
    "\n",
    "sys.path.append(os.path.abspath(os.path.join(os.getcwd(), '..')))\n",
    "\n",
    "from itertools import combinations\n",
    "from tqdm import tqdm\n",
    "\n",
    "from src.stock_data_manager import StockDataManager\n",
    "from src.stock_statistics import StockStatistics\n",
    "from src.utils import Utils"
   ]
  },
  {
   "cell_type": "code",
   "execution_count": 2,
   "metadata": {},
   "outputs": [],
   "source": [
    "start_date = \"2020-01-01\"\n",
    "end_date = \"2024-10-01\"\n",
    "SP500_list_path = \"data/tickers.json\""
   ]
  },
  {
   "cell_type": "code",
   "execution_count": 3,
   "metadata": {},
   "outputs": [],
   "source": [
    "tickers = Utils.load_SP500_list(path=SP500_list_path)\n",
    "tickers.remove(\"AMTM\")  # abnormal data"
   ]
  },
  {
   "cell_type": "code",
   "execution_count": 4,
   "metadata": {},
   "outputs": [],
   "source": [
    "sdm = StockDataManager(\n",
    "    db_user=os.environ[\"MYSQL_USER\"],\n",
    "    db_password=os.environ[\"MYSQL_PASSWORD\"],\n",
    "    db_host=\"localhost\",\n",
    "    db_port=\"3306\",\n",
    "    db_name=\"STOCK_PROCESSED\",\n",
    "    alpaca_api_key=os.environ[\"ALPACA_API_KEY\"],\n",
    "    alpaca_secret_key=os.environ[\"ALPACA_SECRET_KEY\"],\n",
    ")"
   ]
  },
  {
   "cell_type": "code",
   "execution_count": 5,
   "metadata": {},
   "outputs": [
    {
     "name": "stderr",
     "output_type": "stream",
     "text": [
      "  0%|          | 0/502 [00:00<?, ?it/s]"
     ]
    },
    {
     "name": "stderr",
     "output_type": "stream",
     "text": [
      "100%|██████████| 502/502 [00:15<00:00, 32.01it/s]\n"
     ]
    }
   ],
   "source": [
    "returns = {\n",
    "    ticker: StockStatistics.calculate_mean_return(\n",
    "        stock_data=sdm.load_from_db(ticker=ticker)\n",
    "    )\n",
    "    for ticker in tqdm(tickers)\n",
    "}"
   ]
  },
  {
   "cell_type": "code",
   "execution_count": 6,
   "metadata": {},
   "outputs": [
    {
     "name": "stderr",
     "output_type": "stream",
     "text": [
      "100%|██████████| 502/502 [00:20<00:00, 24.74it/s]\n"
     ]
    }
   ],
   "source": [
    "volatilities = {\n",
    "    ticker: StockStatistics.calculate_volatility_using_GARCH(\n",
    "        stock_data=sdm.load_from_db(ticker=ticker)\n",
    "    )\n",
    "    for ticker in tqdm(tickers)\n",
    "}"
   ]
  },
  {
   "cell_type": "code",
   "execution_count": null,
   "metadata": {},
   "outputs": [
    {
     "name": "stderr",
     "output_type": "stream",
     "text": [
      "125751it [1:58:37, 17.67it/s]\n"
     ]
    }
   ],
   "source": [
    "correlations = {\n",
    "    Utils.make_ordered_pair(ticker1, ticker2): \\\n",
    "        StockStatistics.calculate_correlation(\n",
    "        stock_data1=sdm.load_from_db(ticker=ticker1),\n",
    "        stock_data2=sdm.load_from_db(ticker=ticker2),\n",
    "    )\n",
    "    for ticker1, ticker2 in tqdm(combinations(tickers, r=2))\n",
    "}"
   ]
  }
 ],
 "metadata": {
  "kernelspec": {
   "display_name": "venv",
   "language": "python",
   "name": "python3"
  },
  "language_info": {
   "codemirror_mode": {
    "name": "ipython",
    "version": 3
   },
   "file_extension": ".py",
   "mimetype": "text/x-python",
   "name": "python",
   "nbconvert_exporter": "python",
   "pygments_lexer": "ipython3",
   "version": "3.11.10"
  }
 },
 "nbformat": 4,
 "nbformat_minor": 2
}

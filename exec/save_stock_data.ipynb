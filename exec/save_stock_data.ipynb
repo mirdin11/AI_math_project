{
 "cells": [
  {
   "cell_type": "markdown",
   "metadata": {},
   "source": [
    "# Load and save stock data with database"
   ]
  },
  {
   "cell_type": "code",
   "execution_count": 1,
   "metadata": {},
   "outputs": [],
   "source": [
    "import os\n",
    "import sys\n",
    "\n",
    "sys.path.append(os.path.abspath(os.path.join(os.getcwd(), '..')))\n",
    "\n",
    "from tqdm import tqdm\n",
    "\n",
    "from src.stock_data_manager import StockDataManager\n",
    "from src.utils import Utils"
   ]
  },
  {
   "cell_type": "code",
   "execution_count": 2,
   "metadata": {},
   "outputs": [
    {
     "ename": "KeyError",
     "evalue": "'MYSQL_USER'",
     "output_type": "error",
     "traceback": [
      "\u001b[0;31m---------------------------------------------------------------------------\u001b[0m",
      "\u001b[0;31mKeyError\u001b[0m                                  Traceback (most recent call last)",
      "Cell \u001b[0;32mIn[2], line 2\u001b[0m\n\u001b[1;32m      1\u001b[0m sdm1 \u001b[38;5;241m=\u001b[39m StockDataManager(\n\u001b[0;32m----> 2\u001b[0m     db_user\u001b[38;5;241m=\u001b[39m\u001b[43mos\u001b[49m\u001b[38;5;241;43m.\u001b[39;49m\u001b[43menviron\u001b[49m\u001b[43m[\u001b[49m\u001b[38;5;124;43m\"\u001b[39;49m\u001b[38;5;124;43mMYSQL_USER\u001b[39;49m\u001b[38;5;124;43m\"\u001b[39;49m\u001b[43m]\u001b[49m,\n\u001b[1;32m      3\u001b[0m     db_password\u001b[38;5;241m=\u001b[39mos\u001b[38;5;241m.\u001b[39menviron[\u001b[38;5;124m\"\u001b[39m\u001b[38;5;124mMYSQL_PASSWORD\u001b[39m\u001b[38;5;124m\"\u001b[39m],\n\u001b[1;32m      4\u001b[0m     db_host\u001b[38;5;241m=\u001b[39m\u001b[38;5;124m\"\u001b[39m\u001b[38;5;124mlocalhost\u001b[39m\u001b[38;5;124m\"\u001b[39m,\n\u001b[1;32m      5\u001b[0m     db_port\u001b[38;5;241m=\u001b[39m\u001b[38;5;124m\"\u001b[39m\u001b[38;5;124m3306\u001b[39m\u001b[38;5;124m\"\u001b[39m,\n\u001b[1;32m      6\u001b[0m     db_name\u001b[38;5;241m=\u001b[39m\u001b[38;5;124m\"\u001b[39m\u001b[38;5;124mSTOCK_RAW\u001b[39m\u001b[38;5;124m\"\u001b[39m,\n\u001b[1;32m      7\u001b[0m     alpaca_api_key\u001b[38;5;241m=\u001b[39mos\u001b[38;5;241m.\u001b[39menviron[\u001b[38;5;124m\"\u001b[39m\u001b[38;5;124mALPACA_API_KEY\u001b[39m\u001b[38;5;124m\"\u001b[39m],\n\u001b[1;32m      8\u001b[0m     alpaca_secret_key\u001b[38;5;241m=\u001b[39mos\u001b[38;5;241m.\u001b[39menviron[\u001b[38;5;124m\"\u001b[39m\u001b[38;5;124mALPACA_SECRET_KEY\u001b[39m\u001b[38;5;124m\"\u001b[39m],\n\u001b[1;32m      9\u001b[0m )\n\u001b[1;32m     11\u001b[0m sdm2 \u001b[38;5;241m=\u001b[39m StockDataManager(\n\u001b[1;32m     12\u001b[0m     db_user\u001b[38;5;241m=\u001b[39mos\u001b[38;5;241m.\u001b[39menviron[\u001b[38;5;124m\"\u001b[39m\u001b[38;5;124mMYSQL_USER\u001b[39m\u001b[38;5;124m\"\u001b[39m],\n\u001b[1;32m     13\u001b[0m     db_password\u001b[38;5;241m=\u001b[39mos\u001b[38;5;241m.\u001b[39menviron[\u001b[38;5;124m\"\u001b[39m\u001b[38;5;124mMYSQL_PASSWORD\u001b[39m\u001b[38;5;124m\"\u001b[39m],\n\u001b[0;32m   (...)\u001b[0m\n\u001b[1;32m     18\u001b[0m     alpaca_secret_key\u001b[38;5;241m=\u001b[39mos\u001b[38;5;241m.\u001b[39menviron[\u001b[38;5;124m\"\u001b[39m\u001b[38;5;124mALPACA_SECRET_KEY\u001b[39m\u001b[38;5;124m\"\u001b[39m],\n\u001b[1;32m     19\u001b[0m )\n",
      "File \u001b[0;32m<frozen os>:679\u001b[0m, in \u001b[0;36m__getitem__\u001b[0;34m(self, key)\u001b[0m\n",
      "\u001b[0;31mKeyError\u001b[0m: 'MYSQL_USER'"
     ]
    }
   ],
   "source": [
    "sdm1 = StockDataManager(\n",
    "    db_user=os.environ[\"MYSQL_USER\"],\n",
    "    db_password=os.environ[\"MYSQL_PASSWORD\"],\n",
    "    db_host=\"localhost\",\n",
    "    db_port=\"3306\",\n",
    "    db_name=\"STOCK_RAW\",\n",
    "    alpaca_api_key=os.environ[\"ALPACA_API_KEY\"],\n",
    "    alpaca_secret_key=os.environ[\"ALPACA_SECRET_KEY\"],\n",
    ")\n",
    "\n",
    "sdm2 = StockDataManager(\n",
    "    db_user=os.environ[\"MYSQL_USER\"],\n",
    "    db_password=os.environ[\"MYSQL_PASSWORD\"],\n",
    "    db_host=\"localhost\",\n",
    "    db_port=\"3306\",\n",
    "    db_name=\"STOCK_PROCESSED\",\n",
    "    alpaca_api_key=os.environ[\"ALPACA_API_KEY\"],\n",
    "    alpaca_secret_key=os.environ[\"ALPACA_SECRET_KEY\"],\n",
    ")"
   ]
  },
  {
   "cell_type": "code",
   "execution_count": 3,
   "metadata": {},
   "outputs": [],
   "source": [
    "start_date = \"2020-01-01\"\n",
    "end_date = \"2024-10-01\"\n",
    "SP500_list_path = \"data/tickers.json\""
   ]
  },
  {
   "cell_type": "code",
   "execution_count": 4,
   "metadata": {},
   "outputs": [],
   "source": [
    "tickers = Utils.load_SP500_list(path=SP500_list_path)"
   ]
  },
  {
   "cell_type": "code",
   "execution_count": 5,
   "metadata": {},
   "outputs": [
    {
     "name": "stderr",
     "output_type": "stream",
     "text": [
      " 12%|█▏        | 60/503 [01:43<13:45,  1.86s/it]$BRK.B: possibly delisted; no timezone found\n",
      " 15%|█▍        | 75/503 [02:10<11:54,  1.67s/it]$BF.B: possibly delisted; no price data found  (1d 1925-12-12 -> 2024-11-17)\n",
      "100%|██████████| 503/503 [13:54<00:00,  1.66s/it]\n"
     ]
    }
   ],
   "source": [
    "for ticker in tqdm(tickers):\n",
    "\n",
    "    data = sdm1.get_data_from_alpaca(\n",
    "        ticker=ticker, start_date=start_date, end_date=end_date\n",
    "    )\n",
    "    sdm1.save_to_db(data)\n",
    "\n",
    "    data = Utils.format_data(stock_data=data)\n",
    "    data = Utils.adjust_for_stock_splits(\n",
    "        stock_data=data,\n",
    "        split_dates=Utils.get_split_dates(\n",
    "            ticker=ticker, start_date=start_date, end_date=end_date\n",
    "        ),\n",
    "    )\n",
    "    sdm2.save_to_db(data)"
   ]
  }
 ],
 "metadata": {
  "kernelspec": {
   "display_name": "AIMATH",
   "language": "python",
   "name": "python3"
  },
  "language_info": {
   "codemirror_mode": {
    "name": "ipython",
    "version": 3
   },
   "file_extension": ".py",
   "mimetype": "text/x-python",
   "name": "python",
   "nbconvert_exporter": "python",
   "pygments_lexer": "ipython3",
   "version": "3.11.10"
  }
 },
 "nbformat": 4,
 "nbformat_minor": 2
}
